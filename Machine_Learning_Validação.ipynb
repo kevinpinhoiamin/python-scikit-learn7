{
 "cells": [
  {
   "cell_type": "code",
   "execution_count": 1,
   "id": "299e14bc",
   "metadata": {},
   "outputs": [
    {
     "data": {
      "text/html": [
       "<div>\n",
       "<style scoped>\n",
       "    .dataframe tbody tr th:only-of-type {\n",
       "        vertical-align: middle;\n",
       "    }\n",
       "\n",
       "    .dataframe tbody tr th {\n",
       "        vertical-align: top;\n",
       "    }\n",
       "\n",
       "    .dataframe thead th {\n",
       "        text-align: right;\n",
       "    }\n",
       "</style>\n",
       "<table border=\"1\" class=\"dataframe\">\n",
       "  <thead>\n",
       "    <tr style=\"text-align: right;\">\n",
       "      <th></th>\n",
       "      <th>preco</th>\n",
       "      <th>vendido</th>\n",
       "      <th>idade_do_modelo</th>\n",
       "      <th>km_por_ano</th>\n",
       "    </tr>\n",
       "  </thead>\n",
       "  <tbody>\n",
       "    <tr>\n",
       "      <th>0</th>\n",
       "      <td>30941.02</td>\n",
       "      <td>1</td>\n",
       "      <td>18</td>\n",
       "      <td>35085.22134</td>\n",
       "    </tr>\n",
       "    <tr>\n",
       "      <th>1</th>\n",
       "      <td>40557.96</td>\n",
       "      <td>1</td>\n",
       "      <td>20</td>\n",
       "      <td>12622.05362</td>\n",
       "    </tr>\n",
       "    <tr>\n",
       "      <th>2</th>\n",
       "      <td>89627.50</td>\n",
       "      <td>0</td>\n",
       "      <td>12</td>\n",
       "      <td>11440.79806</td>\n",
       "    </tr>\n",
       "    <tr>\n",
       "      <th>3</th>\n",
       "      <td>95276.14</td>\n",
       "      <td>0</td>\n",
       "      <td>3</td>\n",
       "      <td>43167.32682</td>\n",
       "    </tr>\n",
       "    <tr>\n",
       "      <th>4</th>\n",
       "      <td>117384.68</td>\n",
       "      <td>1</td>\n",
       "      <td>4</td>\n",
       "      <td>12770.11290</td>\n",
       "    </tr>\n",
       "  </tbody>\n",
       "</table>\n",
       "</div>"
      ],
      "text/plain": [
       "       preco  vendido  idade_do_modelo   km_por_ano\n",
       "0   30941.02        1               18  35085.22134\n",
       "1   40557.96        1               20  12622.05362\n",
       "2   89627.50        0               12  11440.79806\n",
       "3   95276.14        0                3  43167.32682\n",
       "4  117384.68        1                4  12770.11290"
      ]
     },
     "execution_count": 1,
     "metadata": {},
     "output_type": "execute_result"
    }
   ],
   "source": [
    "import pandas as pd\n",
    "\n",
    "uri = \"https://gist.githubusercontent.com/guilhermesilveira/e99a526b2e7ccc6c3b70f53db43a87d2/raw/1605fc74aa778066bf2e6695e24d53cf65f2f447/machine-learning-carros-simulacao.csv\"\n",
    "dados = pd.read_csv(uri).drop(columns=[\"Unnamed: 0\"], axis=1)\n",
    "dados.head()"
   ]
  },
  {
   "cell_type": "code",
   "execution_count": 2,
   "id": "bef30f40",
   "metadata": {},
   "outputs": [
    {
     "name": "stdout",
     "output_type": "stream",
     "text": [
      "Treinamento com 7500 elementos e testaremos com 2500 elementos\n"
     ]
    }
   ],
   "source": [
    "import numpy as np\n",
    "from sklearn.model_selection import train_test_split\n",
    "from sklearn.svm import LinearSVC\n",
    "from sklearn.metrics import accuracy_score\n",
    "\n",
    "x = dados[['preco', 'idade_do_modelo', 'km_por_ano']]\n",
    "y = dados['vendido']\n",
    "\n",
    "SEED = 158020\n",
    "np.random.seed(SEED)\n",
    "\n",
    "treino_x, teste_x, treino_y, teste_y = train_test_split(x, y, test_size=0.25, stratify=y)\n",
    "print(f'Treinamento com {len(treino_x)} elementos e testaremos com {len(teste_x)} elementos')"
   ]
  },
  {
   "cell_type": "code",
   "execution_count": 3,
   "id": "b5e0316d",
   "metadata": {},
   "outputs": [
    {
     "name": "stdout",
     "output_type": "stream",
     "text": [
      "A acurácia do dummy classifier foi 58.0%\n"
     ]
    }
   ],
   "source": [
    "from sklearn.dummy import DummyClassifier\n",
    "\n",
    "dummy_classifier = DummyClassifier()\n",
    "dummy_classifier.fit(treino_x, treino_y)\n",
    "acuracia = dummy_classifier.score(teste_x, teste_y) * 100\n",
    "\n",
    "print(f'A acurácia do dummy classifier foi {round(acuracia, 2)}%')"
   ]
  },
  {
   "cell_type": "code",
   "execution_count": 4,
   "id": "5603ae54",
   "metadata": {},
   "outputs": [
    {
     "name": "stdout",
     "output_type": "stream",
     "text": [
      "A acurácia foi 71.92%\n"
     ]
    }
   ],
   "source": [
    "from sklearn.tree import DecisionTreeClassifier\n",
    "\n",
    "SEED = 158020\n",
    "np.random.seed(SEED)\n",
    "\n",
    "modelo = DecisionTreeClassifier(max_depth=2)\n",
    "modelo.fit(treino_x, treino_y)\n",
    "previsoes = modelo.predict(teste_x)\n",
    "\n",
    "acuracia = accuracy_score(teste_y, previsoes) * 100\n",
    "print(f'A acurácia foi {round(acuracia, 2)}%')"
   ]
  },
  {
   "cell_type": "code",
   "execution_count": 5,
   "id": "bba96628",
   "metadata": {},
   "outputs": [
    {
     "name": "stdout",
     "output_type": "stream",
     "text": [
      "Treinamento com 7500 elementos e testaremos com 2500 elementos\n",
      "A acurácia foi 76.84%\n"
     ]
    }
   ],
   "source": [
    "x = dados[['preco', 'idade_do_modelo', 'km_por_ano']]\n",
    "y = dados['vendido']\n",
    "\n",
    "SEED = 5\n",
    "np.random.seed(SEED)\n",
    "\n",
    "treino_x, teste_x, treino_y, teste_y = train_test_split(x, y, test_size=0.25, stratify=y)\n",
    "print(f'Treinamento com {len(treino_x)} elementos e testaremos com {len(teste_x)} elementos')\n",
    "\n",
    "modelo = DecisionTreeClassifier(max_depth=2)\n",
    "modelo.fit(treino_x, treino_y)\n",
    "previsoes = modelo.predict(teste_x)\n",
    "\n",
    "acuracia = accuracy_score(teste_y, previsoes) * 100\n",
    "print(f'A acurácia foi {round(acuracia, 2)}%')"
   ]
  },
  {
   "cell_type": "code",
   "execution_count": 6,
   "id": "95f9da1f",
   "metadata": {},
   "outputs": [
    {
     "name": "stdout",
     "output_type": "stream",
     "text": [
      "Acurracy com cross validation, 3 = [74.99,  76.57]\n"
     ]
    }
   ],
   "source": [
    "from sklearn.model_selection import cross_validate\n",
    "\n",
    "SEED = 301\n",
    "np.random.seed(SEED)\n",
    "\n",
    "modelo = DecisionTreeClassifier(max_depth=2)\n",
    "resultados = cross_validate(modelo, x, y, cv=3, return_train_score=False)\n",
    "\n",
    "media = resultados['test_score'].mean()\n",
    "desvio_padrao = resultados['test_score'].std()\n",
    "print(f'Acurracy com cross validation, 3 = [{round((media - 2 * desvio_padrao) * 100, 2)},  {round((media + 2 * desvio_padrao) * 100, 2)}]')"
   ]
  },
  {
   "cell_type": "code",
   "execution_count": 7,
   "id": "6a034019",
   "metadata": {},
   "outputs": [
    {
     "name": "stdout",
     "output_type": "stream",
     "text": [
      "Acurracy com cross validation, 10 = [74.24,  77.32]\n"
     ]
    }
   ],
   "source": [
    "SEED = 301\n",
    "np.random.seed(SEED)\n",
    "\n",
    "modelo = DecisionTreeClassifier(max_depth=2)\n",
    "resultados = cross_validate(modelo, x, y, cv=10, return_train_score=False)\n",
    "\n",
    "media = resultados['test_score'].mean()\n",
    "desvio_padrao = resultados['test_score'].std()\n",
    "print(f'Acurracy com cross validation, 10 = [{round((media - 2 * desvio_padrao) * 100, 2)},  {round((media + 2 * desvio_padrao) * 100, 2)}]')"
   ]
  },
  {
   "cell_type": "code",
   "execution_count": 8,
   "id": "173d62ef",
   "metadata": {},
   "outputs": [
    {
     "name": "stdout",
     "output_type": "stream",
     "text": [
      "Acurracy com cross validation, 5 = [75.21,  76.35]\n"
     ]
    }
   ],
   "source": [
    "SEED = 301\n",
    "np.random.seed(SEED)\n",
    "\n",
    "modelo = DecisionTreeClassifier(max_depth=2)\n",
    "resultados = cross_validate(modelo, x, y, cv=5, return_train_score=False)\n",
    "\n",
    "media = resultados['test_score'].mean()\n",
    "desvio_padrao = resultados['test_score'].std()\n",
    "print(f'Acurracy com cross validation, 5 = [{round((media - 2 * desvio_padrao) * 100, 2)},  {round((media + 2 * desvio_padrao) * 100, 2)}]')"
   ]
  },
  {
   "cell_type": "markdown",
   "id": "6be671f2",
   "metadata": {},
   "source": [
    "# Aleatoriedade no cross validate"
   ]
  },
  {
   "cell_type": "code",
   "execution_count": 9,
   "id": "9c41c316",
   "metadata": {},
   "outputs": [],
   "source": [
    "def imprime_resultados(resultados):\n",
    "    media = resultados['test_score'].mean()\n",
    "    desvio_padrao = resultados['test_score'].std()\n",
    "    print(f'Accuracy médio: {round(media * 100, 2)}')\n",
    "    print(f'Acurracy intervalo: [{round((media - 2 * desvio_padrao) * 100, 2)},  {round((media + 2 * desvio_padrao) * 100, 2)}]')"
   ]
  },
  {
   "cell_type": "code",
   "execution_count": 10,
   "id": "9e6c30c4",
   "metadata": {},
   "outputs": [
    {
     "name": "stdout",
     "output_type": "stream",
     "text": [
      "Accuracy médio: 75.78\n",
      "Acurracy intervalo: [74.37,  77.19]\n"
     ]
    }
   ],
   "source": [
    "from sklearn.model_selection import KFold\n",
    "\n",
    "SEED = 301\n",
    "np.random.seed(SEED)\n",
    "\n",
    "cv = KFold(n_splits=10)\n",
    "modelo = DecisionTreeClassifier(max_depth=2)\n",
    "resultados = cross_validate(modelo, x, y, cv=cv, return_train_score=False)\n",
    "\n",
    "imprime_resultados(resultados)"
   ]
  },
  {
   "cell_type": "code",
   "execution_count": 11,
   "id": "7eb9860f",
   "metadata": {},
   "outputs": [
    {
     "name": "stdout",
     "output_type": "stream",
     "text": [
      "Accuracy médio: 75.76\n",
      "Acurracy intervalo: [73.26,  78.26]\n"
     ]
    }
   ],
   "source": [
    "from sklearn.model_selection import KFold\n",
    "\n",
    "SEED = 301\n",
    "np.random.seed(SEED)\n",
    "\n",
    "cv = KFold(n_splits=10, shuffle=True)\n",
    "modelo = DecisionTreeClassifier(max_depth=2)\n",
    "resultados = cross_validate(modelo, x, y, cv=cv, return_train_score=False)\n",
    "\n",
    "imprime_resultados(resultados)"
   ]
  },
  {
   "cell_type": "markdown",
   "id": "15986a18",
   "metadata": {},
   "source": [
    "# Simular situação horrível de azar\n",
    "\n",
    "Pode ser \"azar\" como pode ser uma proporção de exemplos desbalanceadas entre as classes."
   ]
  },
  {
   "cell_type": "code",
   "execution_count": 12,
   "id": "b14b83fa",
   "metadata": {},
   "outputs": [
    {
     "data": {
      "text/html": [
       "<div>\n",
       "<style scoped>\n",
       "    .dataframe tbody tr th:only-of-type {\n",
       "        vertical-align: middle;\n",
       "    }\n",
       "\n",
       "    .dataframe tbody tr th {\n",
       "        vertical-align: top;\n",
       "    }\n",
       "\n",
       "    .dataframe thead th {\n",
       "        text-align: right;\n",
       "    }\n",
       "</style>\n",
       "<table border=\"1\" class=\"dataframe\">\n",
       "  <thead>\n",
       "    <tr style=\"text-align: right;\">\n",
       "      <th></th>\n",
       "      <th>preco</th>\n",
       "      <th>vendido</th>\n",
       "      <th>idade_do_modelo</th>\n",
       "      <th>km_por_ano</th>\n",
       "    </tr>\n",
       "  </thead>\n",
       "  <tbody>\n",
       "    <tr>\n",
       "      <th>4999</th>\n",
       "      <td>74023.29</td>\n",
       "      <td>0</td>\n",
       "      <td>12</td>\n",
       "      <td>24812.80412</td>\n",
       "    </tr>\n",
       "    <tr>\n",
       "      <th>5322</th>\n",
       "      <td>84843.49</td>\n",
       "      <td>0</td>\n",
       "      <td>13</td>\n",
       "      <td>23095.63834</td>\n",
       "    </tr>\n",
       "    <tr>\n",
       "      <th>5319</th>\n",
       "      <td>83100.27</td>\n",
       "      <td>0</td>\n",
       "      <td>19</td>\n",
       "      <td>36240.72746</td>\n",
       "    </tr>\n",
       "    <tr>\n",
       "      <th>5316</th>\n",
       "      <td>87932.13</td>\n",
       "      <td>0</td>\n",
       "      <td>16</td>\n",
       "      <td>32249.56426</td>\n",
       "    </tr>\n",
       "    <tr>\n",
       "      <th>5315</th>\n",
       "      <td>77937.01</td>\n",
       "      <td>0</td>\n",
       "      <td>15</td>\n",
       "      <td>28414.50704</td>\n",
       "    </tr>\n",
       "  </tbody>\n",
       "</table>\n",
       "</div>"
      ],
      "text/plain": [
       "         preco  vendido  idade_do_modelo   km_por_ano\n",
       "4999  74023.29        0               12  24812.80412\n",
       "5322  84843.49        0               13  23095.63834\n",
       "5319  83100.27        0               19  36240.72746\n",
       "5316  87932.13        0               16  32249.56426\n",
       "5315  77937.01        0               15  28414.50704"
      ]
     },
     "execution_count": 12,
     "metadata": {},
     "output_type": "execute_result"
    }
   ],
   "source": [
    "dados_azar = dados.sort_values('vendido', ascending=True)\n",
    "x_azar = dados_azar[['preco', 'idade_do_modelo', 'km_por_ano']]\n",
    "y_azar = dados_azar['vendido']\n",
    "\n",
    "dados_azar.head()"
   ]
  },
  {
   "cell_type": "code",
   "execution_count": 13,
   "id": "e2635f4a",
   "metadata": {},
   "outputs": [
    {
     "name": "stdout",
     "output_type": "stream",
     "text": [
      "Accuracy médio: 57.84\n",
      "Acurracy intervalo: [34.29,  81.39]\n"
     ]
    }
   ],
   "source": [
    "from sklearn.model_selection import KFold\n",
    "\n",
    "SEED = 301\n",
    "np.random.seed(SEED)\n",
    "\n",
    "cv = KFold(n_splits=10)\n",
    "modelo = DecisionTreeClassifier(max_depth=2)\n",
    "resultados = cross_validate(modelo, x_azar, y_azar, cv=cv, return_train_score=False)\n",
    "\n",
    "imprime_resultados(resultados)"
   ]
  },
  {
   "cell_type": "code",
   "execution_count": 14,
   "id": "cd99fcda",
   "metadata": {},
   "outputs": [
    {
     "name": "stdout",
     "output_type": "stream",
     "text": [
      "Accuracy médio: 75.78\n",
      "Acurracy intervalo: [72.3,  79.26]\n"
     ]
    }
   ],
   "source": [
    "from sklearn.model_selection import KFold\n",
    "\n",
    "SEED = 301\n",
    "np.random.seed(SEED)\n",
    "\n",
    "cv = KFold(n_splits=10, shuffle=True)\n",
    "modelo = DecisionTreeClassifier(max_depth=2)\n",
    "resultados = cross_validate(modelo, x_azar, y_azar, cv=cv, return_train_score=False)\n",
    "\n",
    "imprime_resultados(resultados)"
   ]
  },
  {
   "cell_type": "code",
   "execution_count": 15,
   "id": "4094ac38",
   "metadata": {},
   "outputs": [
    {
     "name": "stdout",
     "output_type": "stream",
     "text": [
      "Accuracy médio: 75.78\n",
      "Acurracy intervalo: [73.55,  78.01]\n"
     ]
    }
   ],
   "source": [
    "from sklearn.model_selection import StratifiedKFold\n",
    "\n",
    "SEED = 301\n",
    "np.random.seed(SEED)\n",
    "\n",
    "cv = StratifiedKFold(n_splits=10, shuffle=True)\n",
    "modelo = DecisionTreeClassifier(max_depth=2)\n",
    "resultados = cross_validate(modelo, x_azar, y_azar, cv=cv, return_train_score=False)\n",
    "\n",
    "imprime_resultados(resultados)"
   ]
  },
  {
   "cell_type": "code",
   "execution_count": 16,
   "id": "16b2fbd1",
   "metadata": {},
   "outputs": [
    {
     "data": {
      "text/html": [
       "<div>\n",
       "<style scoped>\n",
       "    .dataframe tbody tr th:only-of-type {\n",
       "        vertical-align: middle;\n",
       "    }\n",
       "\n",
       "    .dataframe tbody tr th {\n",
       "        vertical-align: top;\n",
       "    }\n",
       "\n",
       "    .dataframe thead th {\n",
       "        text-align: right;\n",
       "    }\n",
       "</style>\n",
       "<table border=\"1\" class=\"dataframe\">\n",
       "  <thead>\n",
       "    <tr style=\"text-align: right;\">\n",
       "      <th></th>\n",
       "      <th>preco</th>\n",
       "      <th>vendido</th>\n",
       "      <th>idade_do_modelo</th>\n",
       "      <th>km_por_ano</th>\n",
       "      <th>modelo</th>\n",
       "    </tr>\n",
       "  </thead>\n",
       "  <tbody>\n",
       "    <tr>\n",
       "      <th>0</th>\n",
       "      <td>30941.02</td>\n",
       "      <td>1</td>\n",
       "      <td>18</td>\n",
       "      <td>35085.22134</td>\n",
       "      <td>18</td>\n",
       "    </tr>\n",
       "    <tr>\n",
       "      <th>1</th>\n",
       "      <td>40557.96</td>\n",
       "      <td>1</td>\n",
       "      <td>20</td>\n",
       "      <td>12622.05362</td>\n",
       "      <td>24</td>\n",
       "    </tr>\n",
       "    <tr>\n",
       "      <th>2</th>\n",
       "      <td>89627.50</td>\n",
       "      <td>0</td>\n",
       "      <td>12</td>\n",
       "      <td>11440.79806</td>\n",
       "      <td>14</td>\n",
       "    </tr>\n",
       "    <tr>\n",
       "      <th>3</th>\n",
       "      <td>95276.14</td>\n",
       "      <td>0</td>\n",
       "      <td>3</td>\n",
       "      <td>43167.32682</td>\n",
       "      <td>6</td>\n",
       "    </tr>\n",
       "    <tr>\n",
       "      <th>4</th>\n",
       "      <td>117384.68</td>\n",
       "      <td>1</td>\n",
       "      <td>4</td>\n",
       "      <td>12770.11290</td>\n",
       "      <td>5</td>\n",
       "    </tr>\n",
       "  </tbody>\n",
       "</table>\n",
       "</div>"
      ],
      "text/plain": [
       "       preco  vendido  idade_do_modelo   km_por_ano  modelo\n",
       "0   30941.02        1               18  35085.22134      18\n",
       "1   40557.96        1               20  12622.05362      24\n",
       "2   89627.50        0               12  11440.79806      14\n",
       "3   95276.14        0                3  43167.32682       6\n",
       "4  117384.68        1                4  12770.11290       5"
      ]
     },
     "execution_count": 16,
     "metadata": {},
     "output_type": "execute_result"
    }
   ],
   "source": [
    "np.random.seed(SEED)\n",
    "dados['modelo'] = dados['idade_do_modelo'] + np.random.randint(-2, 3, size=len(dados['idade_do_modelo']))\n",
    "dados['modelo'] = dados['modelo'] + abs(dados['modelo'].min()) + 1\n",
    "dados.head()"
   ]
  },
  {
   "cell_type": "code",
   "execution_count": 17,
   "id": "bc5d6613",
   "metadata": {},
   "outputs": [
    {
     "data": {
      "text/plain": [
       "20    901\n",
       "19    798\n",
       "18    771\n",
       "21    723\n",
       "17    709\n",
       "16    668\n",
       "14    621\n",
       "22    575\n",
       "15    573\n",
       "13    557\n",
       "12    511\n",
       "11    401\n",
       "10    371\n",
       "23    370\n",
       "9     336\n",
       "8     278\n",
       "7     206\n",
       "24    199\n",
       "6     181\n",
       "5     108\n",
       "4      76\n",
       "3      44\n",
       "2      17\n",
       "1       6\n",
       "Name: modelo, dtype: int64"
      ]
     },
     "execution_count": 17,
     "metadata": {},
     "output_type": "execute_result"
    }
   ],
   "source": [
    "dados['modelo'].value_counts()"
   ]
  },
  {
   "cell_type": "code",
   "execution_count": 21,
   "id": "fe24c6bc",
   "metadata": {},
   "outputs": [
    {
     "name": "stdout",
     "output_type": "stream",
     "text": [
      "Accuracy médio: 75.78\n",
      "Acurracy intervalo: [73.67,  77.9]\n"
     ]
    }
   ],
   "source": [
    "from sklearn.model_selection import GroupKFold\n",
    "\n",
    "SEED = 301\n",
    "np.random.seed(SEED)\n",
    "\n",
    "cv = GroupKFold(n_splits=10)\n",
    "modelo = DecisionTreeClassifier(max_depth=2)\n",
    "resultados = cross_validate(modelo, x_azar, y_azar, cv=cv, groups=dados['modelo'], return_train_score=False)\n",
    "\n",
    "imprime_resultados(resultados)"
   ]
  },
  {
   "cell_type": "code",
   "execution_count": null,
   "id": "a86111c7",
   "metadata": {},
   "outputs": [],
   "source": []
  }
 ],
 "metadata": {
  "kernelspec": {
   "display_name": "Python 3 (ipykernel)",
   "language": "python",
   "name": "python3"
  },
  "language_info": {
   "codemirror_mode": {
    "name": "ipython",
    "version": 3
   },
   "file_extension": ".py",
   "mimetype": "text/x-python",
   "name": "python",
   "nbconvert_exporter": "python",
   "pygments_lexer": "ipython3",
   "version": "3.8.2"
  }
 },
 "nbformat": 4,
 "nbformat_minor": 5
}
